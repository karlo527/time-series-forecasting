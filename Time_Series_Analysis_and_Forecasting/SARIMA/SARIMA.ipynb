{
 "cells": [
  {
   "cell_type": "code",
   "execution_count": null,
   "metadata": {},
   "outputs": [],
   "source": [
    "\n",
    "# # Foreacasting with SARIMA\n",
    "#\n",
    "# In depth evaluation and testing of models supplemented by graphs, plots and tables of MAPE for different time steps ahead in terms of prediction.\n",
    "#\n",
    "# The problem framing:\n",
    "# forecast periods p = {6, 12, 18, 24, 36} hours\n",
    "#\n",
    "# - predict the period:\n",
    "#     - single step of p\n",
    "#     - multistep the consecutive p step values\n",
    "#\n"
   ]
  },
  {
   "cell_type": "code",
   "execution_count": null,
   "metadata": {
    "lines_to_next_cell": 2
   },
   "outputs": [],
   "source": [
    "\n",
    "\n",
    "get_ipython().run_line_magic('load_ext', 'autoreload')\n",
    "get_ipython().run_line_magic('autoreload', '2')"
   ]
  },
  {
   "cell_type": "code",
   "execution_count": null,
   "metadata": {
    "lines_to_next_cell": 2
   },
   "outputs": [],
   "source": [
    "\n",
    "\n",
    "import numpy as np\n",
    "import pandas as pd\n",
    "from matplotlib import pyplot as plt"
   ]
  },
  {
   "cell_type": "code",
   "execution_count": null,
   "metadata": {
    "lines_to_next_cell": 2
   },
   "outputs": [],
   "source": [
    "\n",
    "\n",
    "from statsmodels.tsa.arima_model import ARIMA\n",
    "from statsmodels.tsa.statespace.sarimax import SARIMAX\n",
    "from statsmodels.graphics.tsaplots import plot_acf, plot_pacf\n",
    "\n",
    "from sklearn.preprocessing import StandardScaler, MinMaxScaler\n",
    "from sklearn.metrics import mean_squared_error"
   ]
  },
  {
   "cell_type": "code",
   "execution_count": null,
   "metadata": {
    "lines_to_next_cell": 2
   },
   "outputs": [],
   "source": [
    "\n",
    "\n",
    "from utils import *"
   ]
  },
  {
   "cell_type": "code",
   "execution_count": null,
   "metadata": {
    "lines_to_next_cell": 2
   },
   "outputs": [],
   "source": [
    "\n",
    "\n",
    "plt.rcParams['figure.figsize'] = (20, 10)"
   ]
  },
  {
   "cell_type": "code",
   "execution_count": null,
   "metadata": {},
   "outputs": [],
   "source": [
    "\n",
    "\n",
    "\n",
    "\n",
    "\n",
    "# ### Load preprocessed data into dataframe"
   ]
  },
  {
   "cell_type": "code",
   "execution_count": null,
   "metadata": {},
   "outputs": [],
   "source": [
    "\n",
    "\n",
    "filename = 'processed_series.csv'\n",
    "df = pd.read_csv(filename,\n",
    "                 low_memory=False,\n",
    "                 index_col='Date', parse_dates=True\n",
    "                )\n",
    "df.columns = ['Value']\n",
    "\n",
    "print(df.shape)\n",
    "df.head()\n",
    "\n",
    "\n",
    "# ### Resample to 6 hours"
   ]
  },
  {
   "cell_type": "code",
   "execution_count": null,
   "metadata": {
    "lines_to_next_cell": 2
   },
   "outputs": [],
   "source": [
    "\n",
    "\n",
    "df_six_hr = df.Value.resample('6H').mean().to_frame()"
   ]
  },
  {
   "cell_type": "code",
   "execution_count": null,
   "metadata": {
    "lines_to_next_cell": 2
   },
   "outputs": [],
   "source": [
    "\n",
    "\n",
    "print('DF shape:', df_six_hr.shape)\n",
    "df_six_hr.head()"
   ]
  },
  {
   "cell_type": "code",
   "execution_count": null,
   "metadata": {},
   "outputs": [],
   "source": [
    "\n",
    "\n",
    "df_six_hr.describe()\n",
    "\n",
    "\n",
    "# ### Transformations\n",
    "#\n",
    "# Scale using StandardScaler"
   ]
  },
  {
   "cell_type": "code",
   "execution_count": null,
   "metadata": {
    "lines_to_next_cell": 2
   },
   "outputs": [],
   "source": [
    "\n",
    "\n",
    "scaler = StandardScaler()\n",
    "scaled = scaler.fit_transform(df_six_hr)"
   ]
  },
  {
   "cell_type": "code",
   "execution_count": null,
   "metadata": {
    "lines_to_next_cell": 2
   },
   "outputs": [],
   "source": [
    "\n",
    "\n",
    "df_scaled = df_six_hr.copy()\n",
    "df_scaled[:] = scaled\n",
    "df_scaled.head()"
   ]
  },
  {
   "cell_type": "code",
   "execution_count": null,
   "metadata": {
    "lines_to_next_cell": 2
   },
   "outputs": [],
   "source": [
    "\n",
    "\n",
    "df_scaled.describe()"
   ]
  },
  {
   "cell_type": "code",
   "execution_count": null,
   "metadata": {},
   "outputs": [],
   "source": [
    "\n",
    "\n",
    "\n",
    "\n",
    "\n",
    "# ### Split into train and test sets\n",
    "#\n",
    "# Using the first 40 years for training, and remaining 5 years for testing."
   ]
  },
  {
   "cell_type": "code",
   "execution_count": null,
   "metadata": {},
   "outputs": [],
   "source": [
    "\n",
    "\n",
    "split_year = '2014'\n",
    "\n",
    "s_train = df_scaled[:split_year].values[:, 0]\n",
    "s_test = df_scaled[split_year:].values[:, 0]\n",
    "\n",
    "print('s_train shape', s_train.shape)\n",
    "print('s_test shape', s_test.shape)\n",
    "\n",
    "\n",
    "# ### Autocorelations\n",
    "#\n",
    "# - ACF\n",
    "# - PACF"
   ]
  },
  {
   "cell_type": "code",
   "execution_count": null,
   "metadata": {
    "lines_to_next_cell": 2
   },
   "outputs": [],
   "source": [
    "\n",
    "\n",
    "n_lags = 365 * 4 # 6 hours period\n",
    "lags = np.arange(0, n_lags, 20)\n",
    "limit = -1"
   ]
  },
  {
   "cell_type": "code",
   "execution_count": null,
   "metadata": {
    "lines_to_next_cell": 2
   },
   "outputs": [],
   "source": [
    "\n",
    "\n",
    "fig, ax = plt.subplots(3, figsize=(12, 6))\n",
    "\n",
    "plot_acf(s_train[:limit], ax=ax[0], lags=lags)\n",
    "plot_pacf(s_train[:limit], ax=ax[1], lags=lags)\n",
    "ax[2].plot(s_train[:limit])\n",
    "\n",
    "plt.tight_layout()"
   ]
  },
  {
   "cell_type": "code",
   "execution_count": null,
   "metadata": {},
   "outputs": [],
   "source": [
    "\n",
    "\n",
    "n_lags\n",
    "\n",
    "\n",
    "# ### Fit SARIMA on training set\n",
    "#\n",
    "# - Non-seasonal: (d, p, q) = (0, 1, 2)\n",
    "#\n",
    "# - Seasonal: (D, P, Q) M = (0, 1, 2) lags"
   ]
  },
  {
   "cell_type": "code",
   "execution_count": null,
   "metadata": {
    "lines_to_next_cell": 2
   },
   "outputs": [],
   "source": [
    "\n",
    "\n",
    "sarima_model = SARIMAX(s_train, order=(0, 1, 2), seasonal_order=(0, 1, 2, n_lags),\n",
    "                       enforce_invertibility=False, enforce_stationarity=False)\n",
    "sarima_fit = sarima_model.fit()"
   ]
  },
  {
   "cell_type": "code",
   "execution_count": null,
   "metadata": {
    "lines_to_next_cell": 2
   },
   "outputs": [],
   "source": [
    "\n",
    "\n",
    "sarima_fit.summary()"
   ]
  },
  {
   "cell_type": "code",
   "execution_count": null,
   "metadata": {},
   "outputs": [],
   "source": [
    "\n",
    "\n",
    "\n"
   ]
  },
  {
   "cell_type": "code",
   "execution_count": null,
   "metadata": {
    "lines_to_next_cell": 2
   },
   "outputs": [],
   "source": [
    "\n",
    "\n",
    "# Forecast period\n",
    "start = s_train.shape[0]\n",
    "end = start + s_test.shape[0]\n",
    "start, end"
   ]
  },
  {
   "cell_type": "code",
   "execution_count": null,
   "metadata": {
    "lines_to_next_cell": 2
   },
   "outputs": [],
   "source": [
    "\n",
    "\n",
    "p = sarima_fit.get_prediction(start, end)"
   ]
  },
  {
   "cell_type": "code",
   "execution_count": null,
   "metadata": {
    "lines_to_next_cell": 2
   },
   "outputs": [],
   "source": [
    "\n",
    "\n",
    "predicted_means = p.predicted_mean\n",
    "predicted_intervals = p.conf_int(alpha=0.05)"
   ]
  },
  {
   "cell_type": "code",
   "execution_count": null,
   "metadata": {
    "lines_to_next_cell": 2
   },
   "outputs": [],
   "source": [
    "\n",
    "\n",
    "predicted_means.shape, s_test.shape"
   ]
  },
  {
   "cell_type": "code",
   "execution_count": null,
   "metadata": {
    "lines_to_next_cell": 2
   },
   "outputs": [],
   "source": [
    "\n",
    "\n",
    "lower_bounds = predicted_intervals[:, 0]\n",
    "upper_bounds = predicted_intervals[:, 1]"
   ]
  },
  {
   "cell_type": "code",
   "execution_count": null,
   "metadata": {
    "lines_to_next_cell": 2
   },
   "outputs": [],
   "source": [
    "\n",
    "\n",
    "lower_bounds.shape"
   ]
  },
  {
   "cell_type": "code",
   "execution_count": null,
   "metadata": {},
   "outputs": [],
   "source": [
    "\n",
    "\n",
    "\n"
   ]
  },
  {
   "cell_type": "code",
   "execution_count": null,
   "metadata": {
    "lines_to_next_cell": 2
   },
   "outputs": [],
   "source": [
    "\n",
    "\n",
    "n_steps = 6"
   ]
  },
  {
   "cell_type": "code",
   "execution_count": null,
   "metadata": {
    "lines_to_next_cell": 2
   },
   "outputs": [],
   "source": [
    "\n",
    "\n",
    "def recursive_forecast(p_means, p_intervals, y_test, n_steps=1):\n",
    "    # Make an accumulator for predictions\n",
    "    predictions = np.zeros(shape=(y_test.shape[0], n_steps))\n",
    "    predictions[:] = np.nan\n",
    "\n",
    "    for i in range(n_steps):\n",
    "        predictions[:, i] = p_means[1:]\n",
    "\n",
    "    return predictions"
   ]
  },
  {
   "cell_type": "code",
   "execution_count": null,
   "metadata": {
    "lines_to_next_cell": 2
   },
   "outputs": [],
   "source": [
    "\n",
    "\n",
    "# Make recursive multi-step predictions\n",
    "y_pred_multi = recursive_forecast(predicted_means, predicted_intervals, s_test, n_steps)\n",
    "\n",
    "# Evaluate\n",
    "svr_rmse = eval_multi(s_test, y_pred_multi, calc_rmse, scaler)\n",
    "svr_mape = eval_multi(s_test, y_pred_multi, calc_mape, scaler)\n",
    "\n",
    "# Report the metrics\n",
    "metrics = np.array([svr_rmse, svr_mape]).T\n",
    "summary = report_metrics(metrics, ['RMSE', 'MAPE'])"
   ]
  },
  {
   "cell_type": "code",
   "execution_count": null,
   "metadata": {
    "lines_to_next_cell": 2
   },
   "outputs": [],
   "source": [
    "\n",
    "\n",
    "summary"
   ]
  },
  {
   "cell_type": "code",
   "execution_count": null,
   "metadata": {
    "lines_to_next_cell": 2
   },
   "outputs": [],
   "source": [
    "\n",
    "\n",
    "visualize_pred(s_test, y_pred_multi, 'SARIMA Model',\n",
    "               df_scaled, split_year, scaler)"
   ]
  },
  {
   "cell_type": "code",
   "execution_count": null,
   "metadata": {},
   "outputs": [],
   "source": [
    "\n",
    "\n",
    "\n"
   ]
  },
  {
   "cell_type": "code",
   "execution_count": null,
   "metadata": {
    "lines_to_next_cell": 2
   },
   "outputs": [],
   "source": [
    "\n",
    "\n",
    "sarima_rmse = calc_rmse(s_test, p.predicted_mean[:-1])\n",
    "print('SARIMA RMSE:', sarima_rmse)"
   ]
  },
  {
   "cell_type": "code",
   "execution_count": null,
   "metadata": {
    "lines_to_next_cell": 2
   },
   "outputs": [],
   "source": [
    "\n",
    "\n",
    "fig, ax = plt.subplots(figsize=(20, 10))\n",
    "\n",
    "# # Training set\n",
    "# ax.plot(df_scaled[:split_year].index, s_train, label='Train')\n",
    "\n",
    "# Test set truth\n",
    "ax.plot(df_scaled[split_year:].index, s_test, label='Test truth')\n",
    "\n",
    "# Test prediction\n",
    "ax.plot(df_scaled[split_year:].index, predicted_means[:-1],\n",
    "        color='#ff7823', linestyle='--',\n",
    "        label=\"prediction (RMSE={:0.4f})\".format(sarima_rmse) )\n",
    "\n",
    "# Prediction boundaries\n",
    "ax.fill_between(df_scaled[split_year:].index, lower_bounds[:-1], upper_bounds[:-1],\n",
    "                color='#ff7823', alpha=0.3,\n",
    "                label=\"Confidence interval (95%)\")\n",
    "\n",
    "ax.legend();\n",
    "ax.set_title(\"SARIMA Model\");"
   ]
  },
  {
   "cell_type": "code",
   "execution_count": null,
   "metadata": {},
   "outputs": [],
   "source": [
    "\n",
    "\n",
    "\n",
    "\n",
    "\n",
    "# ### Results summary\n",
    "# MAPE values"
   ]
  },
  {
   "cell_type": "code",
   "execution_count": null,
   "metadata": {
    "lines_to_next_cell": 2
   },
   "outputs": [],
   "source": [
    "\n",
    "\n",
    "results = [summary]\n",
    "names = ['SARIMA']\n",
    "\n",
    "mape_results = [res.MAPE for res in results]"
   ]
  },
  {
   "cell_type": "code",
   "execution_count": null,
   "metadata": {
    "lines_to_next_cell": 2
   },
   "outputs": [],
   "source": [
    "\n",
    "\n",
    "_summary = pd.concat(mape_results, axis=1)\n",
    "_summary.columns = names"
   ]
  },
  {
   "cell_type": "code",
   "execution_count": null,
   "metadata": {
    "lines_to_next_cell": 2
   },
   "outputs": [],
   "source": [
    "\n",
    "\n",
    "_summary.T"
   ]
  },
  {
   "cell_type": "code",
   "execution_count": null,
   "metadata": {},
   "outputs": [],
   "source": [
    "\n",
    "\n",
    "\n"
   ]
  },
  {
   "cell_type": "code",
   "execution_count": null,
   "metadata": {},
   "outputs": [],
   "source": []
  }
 ],
 "metadata": {
  "jupytext": {
   "cell_metadata_filter": "-all",
   "encoding": "# coding: utf-8",
   "executable": "/usr/bin/env python",
   "main_language": "python",
   "notebook_metadata_filter": "-all"
  },
  "kernelspec": {
   "display_name": "Python 3",
   "language": "python",
   "name": "python3"
  },
  "language_info": {
   "codemirror_mode": {
    "name": "ipython",
    "version": 3
   },
   "file_extension": ".py",
   "mimetype": "text/x-python",
   "name": "python",
   "nbconvert_exporter": "python",
   "pygments_lexer": "ipython3",
   "version": "3.7.4"
  }
 },
 "nbformat": 4,
 "nbformat_minor": 4
}
