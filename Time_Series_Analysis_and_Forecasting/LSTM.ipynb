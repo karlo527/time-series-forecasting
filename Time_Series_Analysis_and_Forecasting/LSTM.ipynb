{
 "cells": [
  {
   "cell_type": "code",
   "execution_count": null,
   "metadata": {},
   "outputs": [],
   "source": []
  },
  {
   "cell_type": "code",
   "execution_count": 1,
   "metadata": {
    "lines_to_next_cell": 2
   },
   "outputs": [],
   "source": [
    "\n",
    "\n",
    "# # # Foreacasting with LSTM\n",
    "#\n",
    "# In depth evaluation and testing of models supplemented by graphs, plots and tables of MAPE for different time steps ahead in terms of prediction.\n",
    "#\n",
    "# The problem framing:\n",
    "# forecast periods p = {6, 12, 18, 24, 30, 36} hours\n",
    "#\n",
    "# - predict the period:\n",
    "#     - single step of p\n",
    "#     - multistep the consecutive p step values"
   ]
  },
  {
   "cell_type": "code",
   "execution_count": 2,
   "metadata": {
    "lines_to_next_cell": 2
   },
   "outputs": [],
   "source": [
    "\n",
    "\n",
    "\n",
    "\n",
    "get_ipython().run_line_magic('load_ext', 'autoreload')\n",
    "get_ipython().run_line_magic('autoreload', '2')"
   ]
  },
  {
   "cell_type": "code",
   "execution_count": 3,
   "metadata": {
    "lines_to_next_cell": 2
   },
   "outputs": [],
   "source": [
    "\n",
    "\n",
    "\n",
    "\n",
    "import numpy as np\n",
    "import pandas as pd\n",
    "from matplotlib import pyplot as plt"
   ]
  },
  {
   "cell_type": "code",
   "execution_count": 4,
   "metadata": {
    "lines_to_next_cell": 2
   },
   "outputs": [],
   "source": [
    "\n",
    "\n",
    "\n",
    "\n",
    "from sklearn.preprocessing import StandardScaler, MinMaxScaler\n",
    "from sklearn.metrics import mean_squared_error"
   ]
  },
  {
   "cell_type": "code",
   "execution_count": 5,
   "metadata": {
    "lines_to_next_cell": 2
   },
   "outputs": [
    {
     "name": "stderr",
     "output_type": "stream",
     "text": [
      "Using TensorFlow backend.\n"
     ]
    }
   ],
   "source": [
    "\n",
    "\n",
    "\n",
    "\n",
    "from keras.models import Sequential\n",
    "from keras.layers import Dense, LSTM, Dropout\n",
    "from keras.optimizers import RMSprop, Adam, SGD, Adagrad"
   ]
  },
  {
   "cell_type": "code",
   "execution_count": 6,
   "metadata": {
    "lines_to_next_cell": 2
   },
   "outputs": [],
   "source": [
    "\n",
    "\n",
    "\n",
    "\n",
    "from utils import *"
   ]
  },
  {
   "cell_type": "code",
   "execution_count": 7,
   "metadata": {
    "lines_to_next_cell": 2
   },
   "outputs": [],
   "source": [
    "\n",
    "\n",
    "\n",
    "\n",
    "plt.rcParams['figure.figsize'] = (20, 10)"
   ]
  },
  {
   "cell_type": "code",
   "execution_count": 8,
   "metadata": {
    "lines_to_next_cell": 2
   },
   "outputs": [],
   "source": [
    "\n",
    "\n",
    "\n",
    "\n",
    "\n",
    "\n",
    "\n",
    "# ### Load preprocessed data into dataframe"
   ]
  },
  {
   "cell_type": "code",
   "execution_count": 9,
   "metadata": {
    "lines_to_next_cell": 2
   },
   "outputs": [
    {
     "name": "stdout",
     "output_type": "stream",
     "text": [
      "(395905, 1)\n"
     ]
    },
    {
     "data": {
      "text/html": [
       "<div>\n",
       "<style scoped>\n",
       "    .dataframe tbody tr th:only-of-type {\n",
       "        vertical-align: middle;\n",
       "    }\n",
       "\n",
       "    .dataframe tbody tr th {\n",
       "        vertical-align: top;\n",
       "    }\n",
       "\n",
       "    .dataframe thead th {\n",
       "        text-align: right;\n",
       "    }\n",
       "</style>\n",
       "<table border=\"1\" class=\"dataframe\">\n",
       "  <thead>\n",
       "    <tr style=\"text-align: right;\">\n",
       "      <th></th>\n",
       "      <th>Value</th>\n",
       "    </tr>\n",
       "    <tr>\n",
       "      <th>Date</th>\n",
       "      <th></th>\n",
       "    </tr>\n",
       "  </thead>\n",
       "  <tbody>\n",
       "    <tr>\n",
       "      <th>1975-01-01 00:00:00</th>\n",
       "      <td>7.5945</td>\n",
       "    </tr>\n",
       "    <tr>\n",
       "      <th>1975-01-01 01:00:00</th>\n",
       "      <td>7.5925</td>\n",
       "    </tr>\n",
       "    <tr>\n",
       "      <th>1975-01-01 02:00:00</th>\n",
       "      <td>7.5905</td>\n",
       "    </tr>\n",
       "    <tr>\n",
       "      <th>1975-01-01 03:00:00</th>\n",
       "      <td>7.5885</td>\n",
       "    </tr>\n",
       "    <tr>\n",
       "      <th>1975-01-01 04:00:00</th>\n",
       "      <td>7.5870</td>\n",
       "    </tr>\n",
       "  </tbody>\n",
       "</table>\n",
       "</div>"
      ],
      "text/plain": [
       "                      Value\n",
       "Date                       \n",
       "1975-01-01 00:00:00  7.5945\n",
       "1975-01-01 01:00:00  7.5925\n",
       "1975-01-01 02:00:00  7.5905\n",
       "1975-01-01 03:00:00  7.5885\n",
       "1975-01-01 04:00:00  7.5870"
      ]
     },
     "execution_count": 9,
     "metadata": {},
     "output_type": "execute_result"
    }
   ],
   "source": [
    "\n",
    "\n",
    "\n",
    "\n",
    "filename = 'processed_series.csv'\n",
    "df = pd.read_csv(filename,\n",
    "                 low_memory=False,\n",
    "                 index_col='Date', parse_dates=True\n",
    "                )\n",
    "df.columns = ['Value']\n",
    "\n",
    "print(df.shape)\n",
    "df.head()\n",
    "\n",
    "\n",
    "# ### Resample to 6 hours"
   ]
  },
  {
   "cell_type": "code",
   "execution_count": 10,
   "metadata": {
    "lines_to_next_cell": 2
   },
   "outputs": [],
   "source": [
    "\n",
    "\n",
    "\n",
    "\n",
    "df_six_hr = df.Value.resample('6H').mean().to_frame()"
   ]
  },
  {
   "cell_type": "code",
   "execution_count": 11,
   "metadata": {
    "lines_to_next_cell": 2
   },
   "outputs": [
    {
     "name": "stdout",
     "output_type": "stream",
     "text": [
      "DF shape: (65985, 1)\n"
     ]
    },
    {
     "data": {
      "text/html": [
       "<div>\n",
       "<style scoped>\n",
       "    .dataframe tbody tr th:only-of-type {\n",
       "        vertical-align: middle;\n",
       "    }\n",
       "\n",
       "    .dataframe tbody tr th {\n",
       "        vertical-align: top;\n",
       "    }\n",
       "\n",
       "    .dataframe thead th {\n",
       "        text-align: right;\n",
       "    }\n",
       "</style>\n",
       "<table border=\"1\" class=\"dataframe\">\n",
       "  <thead>\n",
       "    <tr style=\"text-align: right;\">\n",
       "      <th></th>\n",
       "      <th>Value</th>\n",
       "    </tr>\n",
       "    <tr>\n",
       "      <th>Date</th>\n",
       "      <th></th>\n",
       "    </tr>\n",
       "  </thead>\n",
       "  <tbody>\n",
       "    <tr>\n",
       "      <th>1975-01-01 00:00:00</th>\n",
       "      <td>7.589750</td>\n",
       "    </tr>\n",
       "    <tr>\n",
       "      <th>1975-01-01 06:00:00</th>\n",
       "      <td>7.580583</td>\n",
       "    </tr>\n",
       "    <tr>\n",
       "      <th>1975-01-01 12:00:00</th>\n",
       "      <td>7.571958</td>\n",
       "    </tr>\n",
       "    <tr>\n",
       "      <th>1975-01-01 18:00:00</th>\n",
       "      <td>7.565625</td>\n",
       "    </tr>\n",
       "    <tr>\n",
       "      <th>1975-01-02 00:00:00</th>\n",
       "      <td>7.558917</td>\n",
       "    </tr>\n",
       "  </tbody>\n",
       "</table>\n",
       "</div>"
      ],
      "text/plain": [
       "                        Value\n",
       "Date                         \n",
       "1975-01-01 00:00:00  7.589750\n",
       "1975-01-01 06:00:00  7.580583\n",
       "1975-01-01 12:00:00  7.571958\n",
       "1975-01-01 18:00:00  7.565625\n",
       "1975-01-02 00:00:00  7.558917"
      ]
     },
     "execution_count": 11,
     "metadata": {},
     "output_type": "execute_result"
    }
   ],
   "source": [
    "\n",
    "\n",
    "\n",
    "\n",
    "print('DF shape:', df_six_hr.shape)\n",
    "df_six_hr.head()"
   ]
  },
  {
   "cell_type": "code",
   "execution_count": 12,
   "metadata": {
    "lines_to_next_cell": 2
   },
   "outputs": [
    {
     "data": {
      "text/html": [
       "<div>\n",
       "<style scoped>\n",
       "    .dataframe tbody tr th:only-of-type {\n",
       "        vertical-align: middle;\n",
       "    }\n",
       "\n",
       "    .dataframe tbody tr th {\n",
       "        vertical-align: top;\n",
       "    }\n",
       "\n",
       "    .dataframe thead th {\n",
       "        text-align: right;\n",
       "    }\n",
       "</style>\n",
       "<table border=\"1\" class=\"dataframe\">\n",
       "  <thead>\n",
       "    <tr style=\"text-align: right;\">\n",
       "      <th></th>\n",
       "      <th>Value</th>\n",
       "    </tr>\n",
       "  </thead>\n",
       "  <tbody>\n",
       "    <tr>\n",
       "      <th>count</th>\n",
       "      <td>65985.000000</td>\n",
       "    </tr>\n",
       "    <tr>\n",
       "      <th>mean</th>\n",
       "      <td>7.464822</td>\n",
       "    </tr>\n",
       "    <tr>\n",
       "      <th>std</th>\n",
       "      <td>0.278341</td>\n",
       "    </tr>\n",
       "    <tr>\n",
       "      <th>min</th>\n",
       "      <td>6.998333</td>\n",
       "    </tr>\n",
       "    <tr>\n",
       "      <th>25%</th>\n",
       "      <td>7.258000</td>\n",
       "    </tr>\n",
       "    <tr>\n",
       "      <th>50%</th>\n",
       "      <td>7.418417</td>\n",
       "    </tr>\n",
       "    <tr>\n",
       "      <th>75%</th>\n",
       "      <td>7.619250</td>\n",
       "    </tr>\n",
       "    <tr>\n",
       "      <th>max</th>\n",
       "      <td>10.065917</td>\n",
       "    </tr>\n",
       "  </tbody>\n",
       "</table>\n",
       "</div>"
      ],
      "text/plain": [
       "              Value\n",
       "count  65985.000000\n",
       "mean       7.464822\n",
       "std        0.278341\n",
       "min        6.998333\n",
       "25%        7.258000\n",
       "50%        7.418417\n",
       "75%        7.619250\n",
       "max       10.065917"
      ]
     },
     "execution_count": 12,
     "metadata": {},
     "output_type": "execute_result"
    }
   ],
   "source": [
    "\n",
    "\n",
    "\n",
    "\n",
    "df_six_hr.describe()\n",
    "\n",
    "\n",
    "# ### Transformations\n",
    "#\n",
    "# Scale using StandardScaler"
   ]
  },
  {
   "cell_type": "code",
   "execution_count": 13,
   "metadata": {
    "lines_to_next_cell": 2
   },
   "outputs": [],
   "source": [
    "\n",
    "\n",
    "\n",
    "\n",
    "scaler = StandardScaler()\n",
    "scaled = scaler.fit_transform(df_six_hr)"
   ]
  },
  {
   "cell_type": "code",
   "execution_count": 14,
   "metadata": {
    "lines_to_next_cell": 2
   },
   "outputs": [
    {
     "data": {
      "text/html": [
       "<div>\n",
       "<style scoped>\n",
       "    .dataframe tbody tr th:only-of-type {\n",
       "        vertical-align: middle;\n",
       "    }\n",
       "\n",
       "    .dataframe tbody tr th {\n",
       "        vertical-align: top;\n",
       "    }\n",
       "\n",
       "    .dataframe thead th {\n",
       "        text-align: right;\n",
       "    }\n",
       "</style>\n",
       "<table border=\"1\" class=\"dataframe\">\n",
       "  <thead>\n",
       "    <tr style=\"text-align: right;\">\n",
       "      <th></th>\n",
       "      <th>Value</th>\n",
       "    </tr>\n",
       "    <tr>\n",
       "      <th>Date</th>\n",
       "      <th></th>\n",
       "    </tr>\n",
       "  </thead>\n",
       "  <tbody>\n",
       "    <tr>\n",
       "      <th>1975-01-01 00:00:00</th>\n",
       "      <td>0.448832</td>\n",
       "    </tr>\n",
       "    <tr>\n",
       "      <th>1975-01-01 06:00:00</th>\n",
       "      <td>0.415899</td>\n",
       "    </tr>\n",
       "    <tr>\n",
       "      <th>1975-01-01 12:00:00</th>\n",
       "      <td>0.384911</td>\n",
       "    </tr>\n",
       "    <tr>\n",
       "      <th>1975-01-01 18:00:00</th>\n",
       "      <td>0.362157</td>\n",
       "    </tr>\n",
       "    <tr>\n",
       "      <th>1975-01-02 00:00:00</th>\n",
       "      <td>0.338056</td>\n",
       "    </tr>\n",
       "  </tbody>\n",
       "</table>\n",
       "</div>"
      ],
      "text/plain": [
       "                        Value\n",
       "Date                         \n",
       "1975-01-01 00:00:00  0.448832\n",
       "1975-01-01 06:00:00  0.415899\n",
       "1975-01-01 12:00:00  0.384911\n",
       "1975-01-01 18:00:00  0.362157\n",
       "1975-01-02 00:00:00  0.338056"
      ]
     },
     "execution_count": 14,
     "metadata": {},
     "output_type": "execute_result"
    }
   ],
   "source": [
    "\n",
    "\n",
    "\n",
    "\n",
    "df_scaled = df_six_hr.copy()\n",
    "df_scaled[:] = scaled\n",
    "df_scaled.head()"
   ]
  },
  {
   "cell_type": "code",
   "execution_count": 15,
   "metadata": {
    "lines_to_next_cell": 2
   },
   "outputs": [
    {
     "data": {
      "text/html": [
       "<div>\n",
       "<style scoped>\n",
       "    .dataframe tbody tr th:only-of-type {\n",
       "        vertical-align: middle;\n",
       "    }\n",
       "\n",
       "    .dataframe tbody tr th {\n",
       "        vertical-align: top;\n",
       "    }\n",
       "\n",
       "    .dataframe thead th {\n",
       "        text-align: right;\n",
       "    }\n",
       "</style>\n",
       "<table border=\"1\" class=\"dataframe\">\n",
       "  <thead>\n",
       "    <tr style=\"text-align: right;\">\n",
       "      <th></th>\n",
       "      <th>Value</th>\n",
       "    </tr>\n",
       "  </thead>\n",
       "  <tbody>\n",
       "    <tr>\n",
       "      <th>count</th>\n",
       "      <td>6.598500e+04</td>\n",
       "    </tr>\n",
       "    <tr>\n",
       "      <th>mean</th>\n",
       "      <td>1.820264e-15</td>\n",
       "    </tr>\n",
       "    <tr>\n",
       "      <th>std</th>\n",
       "      <td>1.000008e+00</td>\n",
       "    </tr>\n",
       "    <tr>\n",
       "      <th>min</th>\n",
       "      <td>-1.675973e+00</td>\n",
       "    </tr>\n",
       "    <tr>\n",
       "      <th>25%</th>\n",
       "      <td>-7.430587e-01</td>\n",
       "    </tr>\n",
       "    <tr>\n",
       "      <th>50%</th>\n",
       "      <td>-1.667236e-01</td>\n",
       "    </tr>\n",
       "    <tr>\n",
       "      <th>75%</th>\n",
       "      <td>5.548181e-01</td>\n",
       "    </tr>\n",
       "    <tr>\n",
       "      <th>max</th>\n",
       "      <td>9.345052e+00</td>\n",
       "    </tr>\n",
       "  </tbody>\n",
       "</table>\n",
       "</div>"
      ],
      "text/plain": [
       "              Value\n",
       "count  6.598500e+04\n",
       "mean   1.820264e-15\n",
       "std    1.000008e+00\n",
       "min   -1.675973e+00\n",
       "25%   -7.430587e-01\n",
       "50%   -1.667236e-01\n",
       "75%    5.548181e-01\n",
       "max    9.345052e+00"
      ]
     },
     "execution_count": 15,
     "metadata": {},
     "output_type": "execute_result"
    }
   ],
   "source": [
    "\n",
    "\n",
    "\n",
    "\n",
    "df_scaled.describe()"
   ]
  },
  {
   "cell_type": "code",
   "execution_count": 16,
   "metadata": {
    "lines_to_next_cell": 2
   },
   "outputs": [],
   "source": [
    "\n",
    "\n",
    "\n",
    "\n",
    "\n",
    "\n",
    "\n",
    "# ### Supervised learning framing\n",
    "#\n",
    "# Extract supervised learning data"
   ]
  },
  {
   "cell_type": "code",
   "execution_count": 17,
   "metadata": {
    "lines_to_next_cell": 2
   },
   "outputs": [
    {
     "name": "stdout",
     "output_type": "stream",
     "text": [
      "Index(['Value(t-8)', 'Value(t-7)', 'Value(t-6)', 'Value(t-5)', 'Value(t-4)',\n",
      "       'Value(t-3)', 'Value(t-2)', 'Value(t-1)', 'Value(t)'],\n",
      "      dtype='object')\n"
     ]
    },
    {
     "data": {
      "text/html": [
       "<div>\n",
       "<style scoped>\n",
       "    .dataframe tbody tr th:only-of-type {\n",
       "        vertical-align: middle;\n",
       "    }\n",
       "\n",
       "    .dataframe tbody tr th {\n",
       "        vertical-align: top;\n",
       "    }\n",
       "\n",
       "    .dataframe thead th {\n",
       "        text-align: right;\n",
       "    }\n",
       "</style>\n",
       "<table border=\"1\" class=\"dataframe\">\n",
       "  <thead>\n",
       "    <tr style=\"text-align: right;\">\n",
       "      <th></th>\n",
       "      <th>Value(t-8)</th>\n",
       "      <th>Value(t-7)</th>\n",
       "      <th>Value(t-6)</th>\n",
       "      <th>Value(t-5)</th>\n",
       "      <th>Value(t-4)</th>\n",
       "      <th>Value(t-3)</th>\n",
       "      <th>Value(t-2)</th>\n",
       "      <th>Value(t-1)</th>\n",
       "      <th>Value(t)</th>\n",
       "    </tr>\n",
       "    <tr>\n",
       "      <th>Date</th>\n",
       "      <th></th>\n",
       "      <th></th>\n",
       "      <th></th>\n",
       "      <th></th>\n",
       "      <th></th>\n",
       "      <th></th>\n",
       "      <th></th>\n",
       "      <th></th>\n",
       "      <th></th>\n",
       "    </tr>\n",
       "  </thead>\n",
       "  <tbody>\n",
       "    <tr>\n",
       "      <th>1975-01-03 00:00:00</th>\n",
       "      <td>0.448832</td>\n",
       "      <td>0.415899</td>\n",
       "      <td>0.384911</td>\n",
       "      <td>0.362157</td>\n",
       "      <td>0.338056</td>\n",
       "      <td>0.292398</td>\n",
       "      <td>0.248088</td>\n",
       "      <td>0.208269</td>\n",
       "      <td>0.169197</td>\n",
       "    </tr>\n",
       "    <tr>\n",
       "      <th>1975-01-03 06:00:00</th>\n",
       "      <td>0.415899</td>\n",
       "      <td>0.384911</td>\n",
       "      <td>0.362157</td>\n",
       "      <td>0.338056</td>\n",
       "      <td>0.292398</td>\n",
       "      <td>0.248088</td>\n",
       "      <td>0.208269</td>\n",
       "      <td>0.169197</td>\n",
       "      <td>0.142701</td>\n",
       "    </tr>\n",
       "    <tr>\n",
       "      <th>1975-01-03 12:00:00</th>\n",
       "      <td>0.384911</td>\n",
       "      <td>0.362157</td>\n",
       "      <td>0.338056</td>\n",
       "      <td>0.292398</td>\n",
       "      <td>0.248088</td>\n",
       "      <td>0.208269</td>\n",
       "      <td>0.169197</td>\n",
       "      <td>0.142701</td>\n",
       "      <td>0.111714</td>\n",
       "    </tr>\n",
       "    <tr>\n",
       "      <th>1975-01-03 18:00:00</th>\n",
       "      <td>0.362157</td>\n",
       "      <td>0.338056</td>\n",
       "      <td>0.292398</td>\n",
       "      <td>0.248088</td>\n",
       "      <td>0.208269</td>\n",
       "      <td>0.169197</td>\n",
       "      <td>0.142701</td>\n",
       "      <td>0.111714</td>\n",
       "      <td>0.091205</td>\n",
       "    </tr>\n",
       "    <tr>\n",
       "      <th>1975-01-04 00:00:00</th>\n",
       "      <td>0.338056</td>\n",
       "      <td>0.292398</td>\n",
       "      <td>0.248088</td>\n",
       "      <td>0.208269</td>\n",
       "      <td>0.169197</td>\n",
       "      <td>0.142701</td>\n",
       "      <td>0.111714</td>\n",
       "      <td>0.091205</td>\n",
       "      <td>0.075487</td>\n",
       "    </tr>\n",
       "  </tbody>\n",
       "</table>\n",
       "</div>"
      ],
      "text/plain": [
       "                     Value(t-8)  Value(t-7)  Value(t-6)  Value(t-5)  \\\n",
       "Date                                                                  \n",
       "1975-01-03 00:00:00    0.448832    0.415899    0.384911    0.362157   \n",
       "1975-01-03 06:00:00    0.415899    0.384911    0.362157    0.338056   \n",
       "1975-01-03 12:00:00    0.384911    0.362157    0.338056    0.292398   \n",
       "1975-01-03 18:00:00    0.362157    0.338056    0.292398    0.248088   \n",
       "1975-01-04 00:00:00    0.338056    0.292398    0.248088    0.208269   \n",
       "\n",
       "                     Value(t-4)  Value(t-3)  Value(t-2)  Value(t-1)  Value(t)  \n",
       "Date                                                                           \n",
       "1975-01-03 00:00:00    0.338056    0.292398    0.248088    0.208269  0.169197  \n",
       "1975-01-03 06:00:00    0.292398    0.248088    0.208269    0.169197  0.142701  \n",
       "1975-01-03 12:00:00    0.248088    0.208269    0.169197    0.142701  0.111714  \n",
       "1975-01-03 18:00:00    0.208269    0.169197    0.142701    0.111714  0.091205  \n",
       "1975-01-04 00:00:00    0.169197    0.142701    0.111714    0.091205  0.075487  "
      ]
     },
     "execution_count": 17,
     "metadata": {},
     "output_type": "execute_result"
    }
   ],
   "source": [
    "\n",
    "\n",
    "\n",
    "\n",
    "n_inputs = 8 # Use the last e.g 48 hours data\n",
    "n_outputs = 1 # Predict the next hours\n",
    "forecast_column = 'Value'\n",
    "\n",
    "df_data, label_columns = frame_supervised_data(df_scaled, n_inputs, n_outputs,\n",
    "                                                    forecast_columns=[forecast_column])\n",
    "print(df_data.columns)\n",
    "df_data.head()"
   ]
  },
  {
   "cell_type": "code",
   "execution_count": 18,
   "metadata": {
    "lines_to_next_cell": 2
   },
   "outputs": [
    {
     "data": {
      "text/plain": [
       "((65977, 8), (65977, 1))"
      ]
     },
     "execution_count": 18,
     "metadata": {},
     "output_type": "execute_result"
    }
   ],
   "source": [
    "\n",
    "\n",
    "\n",
    "\n",
    "# Extract features\n",
    "X = df_data.drop(label_columns, axis=1)\n",
    "\n",
    "# Extract labels\n",
    "y = df_data[label_columns]\n",
    "\n",
    "X.shape, y.shape\n",
    "\n",
    "\n",
    "# #### Split into train and test sets\n",
    "#\n",
    "# Using the first 40 years for training, and remaining 6 years for testing."
   ]
  },
  {
   "cell_type": "code",
   "execution_count": 19,
   "metadata": {
    "lines_to_next_cell": 2
   },
   "outputs": [
    {
     "name": "stdout",
     "output_type": "stream",
     "text": [
      "X_train shape (58432, 8, 1)\n",
      "y_train shape (58432,)\n",
      "X_test shape (9005, 8, 1)\n",
      "y_test shape (9005,)\n"
     ]
    }
   ],
   "source": [
    "\n",
    "\n",
    "\n",
    "\n",
    "split_year = '2014'\n",
    "\n",
    "X_train = np.expand_dims(X[:split_year].values, axis=2)\n",
    "X_test = np.expand_dims(X[split_year:].values, axis=2)\n",
    "\n",
    "y_train = y[:split_year].values[:, 0]\n",
    "y_test = y[split_year:].values[:, 0]\n",
    "\n",
    "print('X_train shape', X_train.shape)\n",
    "print('y_train shape', y_train.shape)\n",
    "print('X_test shape', X_test.shape)\n",
    "print('y_test shape', y_test.shape)"
   ]
  },
  {
   "cell_type": "code",
   "execution_count": 20,
   "metadata": {
    "lines_to_next_cell": 2
   },
   "outputs": [],
   "source": [
    "\n",
    "\n",
    "\n",
    "\n",
    "n_steps = 6\n",
    "dataset = (X_train, y_train, X_test, y_test)"
   ]
  },
  {
   "cell_type": "code",
   "execution_count": 21,
   "metadata": {
    "lines_to_next_cell": 2
   },
   "outputs": [],
   "source": [
    "\n",
    "\n",
    "\n",
    "\n",
    "\n",
    "\n",
    "\n",
    "\n",
    "# ### Define the network model"
   ]
  },
  {
   "cell_type": "code",
   "execution_count": 22,
   "metadata": {
    "lines_to_next_cell": 2
   },
   "outputs": [],
   "source": [
    "\n",
    "\n",
    "\n",
    "\n",
    "model = Sequential()\n",
    "\n",
    "model = Sequential()\n",
    "model.add( LSTM(128, activation='relu', input_shape=X_train.shape[1:]) )\n",
    "model.add(Dropout(0.2))\n",
    "model.add( Dense(1) ) # Linear activation, for regression\n",
    "\n",
    "optimizer = RMSprop(lr=0.0001)\n",
    "model.compile(optimizer=optimizer, loss='mean_squared_error')"
   ]
  },
  {
   "cell_type": "code",
   "execution_count": 23,
   "metadata": {
    "lines_to_next_cell": 2
   },
   "outputs": [
    {
     "name": "stdout",
     "output_type": "stream",
     "text": [
      "Model: \"sequential_2\"\n",
      "_________________________________________________________________\n",
      "Layer (type)                 Output Shape              Param #   \n",
      "=================================================================\n",
      "lstm_1 (LSTM)                (None, 128)               66560     \n",
      "_________________________________________________________________\n",
      "dropout_1 (Dropout)          (None, 128)               0         \n",
      "_________________________________________________________________\n",
      "dense_1 (Dense)              (None, 1)                 129       \n",
      "=================================================================\n",
      "Total params: 66,689\n",
      "Trainable params: 66,689\n",
      "Non-trainable params: 0\n",
      "_________________________________________________________________\n",
      "None\n"
     ]
    }
   ],
   "source": [
    "\n",
    "\n",
    "\n",
    "\n",
    "print(model.summary())"
   ]
  },
  {
   "cell_type": "code",
   "execution_count": null,
   "metadata": {
    "lines_to_next_cell": 2
   },
   "outputs": [
    {
     "name": "stdout",
     "output_type": "stream",
     "text": [
      "Train on 40902 samples, validate on 17530 samples\n",
      "Epoch 1/15\n",
      "40902/40902 [==============================] - 13s 320us/step - loss: 0.2089 - val_loss: 0.1042\n",
      "Epoch 2/15\n",
      "40902/40902 [==============================] - 13s 313us/step - loss: 0.0831 - val_loss: 0.0676\n",
      "Epoch 3/15\n",
      "40902/40902 [==============================] - 13s 322us/step - loss: 0.0572 - val_loss: 0.0455\n",
      "Epoch 4/15\n",
      "40902/40902 [==============================] - 12s 305us/step - loss: 0.0430 - val_loss: 0.0378\n",
      "Epoch 5/15\n",
      "40902/40902 [==============================] - 12s 292us/step - loss: 0.0342 - val_loss: 0.0317\n",
      "Epoch 6/15\n",
      "40902/40902 [==============================] - 12s 291us/step - loss: 0.0295 - val_loss: 0.0262\n",
      "Epoch 7/15\n",
      "40902/40902 [==============================] - 12s 302us/step - loss: 0.0263 - val_loss: 0.0255\n",
      "Epoch 8/15\n",
      "40902/40902 [==============================] - 12s 302us/step - loss: 0.0247 - val_loss: 0.0259\n",
      "Epoch 9/15\n",
      "40902/40902 [==============================] - 13s 326us/step - loss: 0.0239 - val_loss: 0.0238\n",
      "Epoch 10/15\n",
      "40902/40902 [==============================] - 13s 307us/step - loss: 0.0230 - val_loss: 0.0212\n",
      "Epoch 11/15\n",
      "40902/40902 [==============================] - 12s 303us/step - loss: 0.0223 - val_loss: 0.0221\n",
      "Epoch 12/15\n",
      "25920/40902 [==================>...........] - ETA: 4s - loss: 0.0204"
     ]
    }
   ],
   "source": [
    "\n",
    "\n",
    "\n",
    "\n",
    "n_epochs = 15\n",
    "# set shuffle to False!\n",
    "h = model.fit(X_train, y_train, epochs=n_epochs,\n",
    "              batch_size=20,\n",
    "              validation_split=0.3, shuffle=False)"
   ]
  },
  {
   "cell_type": "code",
   "execution_count": null,
   "metadata": {
    "lines_to_next_cell": 2
   },
   "outputs": [],
   "source": [
    "\n",
    "\n",
    "\n",
    "\n",
    "plt.plot(h.history['loss'], label='Train')\n",
    "plt.plot(h.history['val_loss'], label='Validation')\n",
    "\n",
    "plt.xlabel('Epochs')\n",
    "plt.ylabel('MSE')\n",
    "plt.legend()"
   ]
  },
  {
   "cell_type": "code",
   "execution_count": null,
   "metadata": {
    "lines_to_next_cell": 2
   },
   "outputs": [],
   "source": [
    "\n",
    "\n",
    "\n",
    "\n",
    "def recursive_forecast(model, X_test, y_test, n_steps=1):\n",
    "    # Make an accumulator for predictions\n",
    "    predictions = np.zeros(shape=(y_test.shape[0], n_steps, 1))\n",
    "    predictions[:] = np.nan\n",
    "\n",
    "    X_test_step = X_test.copy()\n",
    "\n",
    "    for i in range(n_steps):\n",
    "        predictions[:, i] = model.predict(X_test_step)\n",
    "        X_test_step = np.concatenate((X_test_step[:, 1:], predictions[:, i:i+1]), axis=1)\n",
    "\n",
    "    return predictions"
   ]
  },
  {
   "cell_type": "code",
   "execution_count": null,
   "metadata": {
    "lines_to_next_cell": 2
   },
   "outputs": [],
   "source": [
    "\n",
    "\n",
    "\n",
    "\n",
    "# Make recursive multi-step predictions\n",
    "y_pred_multi = recursive_forecast(model, X_test, y_test, n_steps)\n",
    "\n",
    "# Evaluate\n",
    "lstm_rmse = eval_multi(y_test, y_pred_multi, calc_rmse, scaler)\n",
    "lstm_mape = eval_multi(y_test, y_pred_multi, calc_mape, scaler)\n",
    "\n",
    "# Report the metrics\n",
    "metrics = np.array([lstm_rmse, lstm_mape]).T\n",
    "summary = report_metrics(metrics, ['RMSE', 'MAPE'])"
   ]
  },
  {
   "cell_type": "code",
   "execution_count": null,
   "metadata": {
    "lines_to_next_cell": 2
   },
   "outputs": [],
   "source": [
    "\n",
    "\n",
    "\n",
    "\n",
    "summary"
   ]
  },
  {
   "cell_type": "code",
   "execution_count": null,
   "metadata": {
    "lines_to_next_cell": 2
   },
   "outputs": [],
   "source": [
    "\n",
    "\n",
    "summary.plot()"
   ]
  },
  {
   "cell_type": "code",
   "execution_count": null,
   "metadata": {
    "lines_to_next_cell": 2
   },
   "outputs": [],
   "source": [
    "\n",
    "\n",
    "\n",
    "\n",
    "visualize_pred(y_test, y_pred_multi, 'LSTM Model', y, split_year, scaler)"
   ]
  },
  {
   "cell_type": "code",
   "execution_count": null,
   "metadata": {
    "lines_to_next_cell": 2
   },
   "outputs": [],
   "source": [
    "\n",
    "\n",
    "visualize_pred_ext(y_test, y_pred_multi, 'LSTM Model', y, split_year, scaler)"
   ]
  },
  {
   "cell_type": "code",
   "execution_count": null,
   "metadata": {
    "lines_to_next_cell": 2
   },
   "outputs": [],
   "source": [
    "\n",
    "\n",
    "\n",
    "\n",
    "\n",
    "\n",
    "\n",
    "# ### Results summary\n",
    "# MAPE values"
   ]
  },
  {
   "cell_type": "code",
   "execution_count": null,
   "metadata": {
    "lines_to_next_cell": 2
   },
   "outputs": [],
   "source": [
    "\n",
    "\n",
    "\n",
    "\n",
    "results = [summary]\n",
    "names = ['LSTM']\n",
    "\n",
    "mape_results = [res.MAPE for res in results]"
   ]
  },
  {
   "cell_type": "code",
   "execution_count": null,
   "metadata": {
    "lines_to_next_cell": 2
   },
   "outputs": [],
   "source": [
    "\n",
    "\n",
    "\n",
    "\n",
    "summary = pd.concat(mape_results, axis=1)\n",
    "summary.columns = names"
   ]
  },
  {
   "cell_type": "code",
   "execution_count": null,
   "metadata": {
    "lines_to_next_cell": 2
   },
   "outputs": [],
   "source": [
    "\n",
    "\n",
    "\n",
    "\n",
    "summary.T"
   ]
  },
  {
   "cell_type": "code",
   "execution_count": null,
   "metadata": {},
   "outputs": [],
   "source": []
  }
 ],
 "metadata": {
  "jupytext": {
   "cell_metadata_filter": "-all",
   "encoding": "# coding: utf-8",
   "executable": "/usr/bin/env python",
   "main_language": "python",
   "notebook_metadata_filter": "-all"
  },
  "kernelspec": {
   "display_name": "Python 3",
   "language": "python",
   "name": "python3"
  },
  "language_info": {
   "codemirror_mode": {
    "name": "ipython",
    "version": 3
   },
   "file_extension": ".py",
   "mimetype": "text/x-python",
   "name": "python",
   "nbconvert_exporter": "python",
   "pygments_lexer": "ipython3",
   "version": "3.7.4"
  }
 },
 "nbformat": 4,
 "nbformat_minor": 4
}
